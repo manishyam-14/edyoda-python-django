{
 "cells": [
  {
   "cell_type": "markdown",
   "metadata": {},
   "source": [
    "1.In the pre-smartphone era,each number key is assigned a subset of the alphabet {a,b,…,z}.\n",
    "\n",
    "- 2 is assigned {a,b,c}, \n",
    "- 3 is assigned {d,e,f} \n",
    "- 4 is assigned {g,h,i} \n",
    "- 5 is assigned {j,k,l}\n",
    "- 6 is assigned {m,n,o} \n",
    "- 7 is assigned {p,q,r,s}\n",
    "- 8 is assigned {t,u,v} \n",
    "- 9 is assigned {w,x,y,z}\n",
    "\n",
    "Write a function numbers_to_chars() to find the characters generated using key 9999335533. Output should be \"zeke\"\n",
    "\n",
    "Function Name : numbers_to_chars() Input : Integer number sequence Output : Strz"
   ]
  },
  {
   "cell_type": "code",
   "execution_count": 11,
   "metadata": {},
   "outputs": [
    {
     "name": "stdout",
     "output_type": "stream",
     "text": [
      "zeke"
     ]
    }
   ],
   "source": [
    "def number_to_chars(s):\n",
    "    \n",
    "    \n",
    "    l = []\n",
    "    current_char = s[0]\n",
    "    count = -1\n",
    "    for value in s:\n",
    "        if value == current_char:\n",
    "            count+=1\n",
    "            temp = value  \n",
    "            \n",
    "        else:\n",
    "            l.append((temp,count))\n",
    "            current_char = value\n",
    "            count = 0\n",
    "\n",
    "    d = {\"2\":['a','b','c'],\"3\":['d','e','f'],\"4\":['g','h','i'],\"5\":['j','k','l'],\"6\":['m','n','o'],\"7\":['p','q','r','s'],\"8\":['t','u','v'],\"9\":['w','x','y','z']}\n",
    "\n",
    "    for key,index in l:\n",
    "        print(d[key][index] ,end = '')\n",
    "\n",
    "number_to_chars(\"9999335533 \")\n"
   ]
  },
  {
   "cell_type": "markdown",
   "metadata": {},
   "source": [
    "2.Given a dict of tickets(\"to\":\"from\")\n",
    "\n",
    "{\"Chennai\":\"Banglore\",\"Bombay\":\"Delhi\",\"Goa\":\"Chennai\",\"Delhi\":\"Goa\"} find out the sequence of travel.\n",
    "\n",
    "\n",
    " Expected Output : Bombay->Delhi, Delhi->Goa, Goa->Chennai, Chennai->Banglore\n",
    "\n",
    "Function Name : travel_sequence Input : dict Output : dict"
   ]
  },
  {
   "cell_type": "code",
   "execution_count": 19,
   "metadata": {},
   "outputs": [
    {
     "name": "stdout",
     "output_type": "stream",
     "text": [
      "Bombay->Delhi,Delhi->Goa,Goa->Chennai,Chennai->Banglore,"
     ]
    }
   ],
   "source": [
    "def travel_sequence(d):\n",
    "    dic = {}\n",
    "    l = []\n",
    "    for key in d.keys():\n",
    "        if key not in d.values():\n",
    "            l.append(key)\n",
    "    s = l[0]\n",
    "    for i in range(len(d)):\n",
    "        dic[s] = d[s]\n",
    "        s = d[s]\n",
    "    keys = list(dic.keys())\n",
    "    values = list(dic.values())\n",
    "    for index in range(len(values)):\n",
    "        print(\"{}->{}\".format(keys[index],values[index]), end = \",\")\n",
    "          \n",
    "travel_sequence({\"Chennai\":\"Banglore\",\"Bombay\":\"Delhi\",\"Goa\":\"Chennai\",\"Delhi\":\"Goa\"})"
   ]
  },
  {
   "cell_type": "markdown",
   "metadata": {},
   "source": [
    "3.Given a dictionary that associates the names of states with a list of the names of cities that appear in it,write a program that creates a new dictionary that associates the name of a city with the list of states that it appears in.\n",
    "\n",
    "As an example, if the first dictionary is\n",
    "\n",
    "Input : states = {'New Hampshire': ['Concord', 'Hanover'],\n",
    "\n",
    "'Massachusetts': ['Boston', 'Concord', 'Springfield'],\n",
    "\n",
    "'Illinois': ['Chicago', 'Springfield', 'Peoria'] }\n",
    "\n",
    "Output:\n",
    "\n",
    "cities = {'Hanover': ['New Hampshire'],\n",
    "\n",
    "'Chicago': ['Illinois'],'Boston': ['Massachusetts'],\n",
    "\n",
    "'Peoria': ['Illinois'],'Concord': ['New Hampshire','Massachusetts'],\n",
    "\n",
    "'Springfield': ['Massachusetts', 'Illinois'] }\n",
    "\n",
    "Function Name : city_with_states Input : dict Output : dict"
   ]
  },
  {
   "cell_type": "code",
   "execution_count": 82,
   "metadata": {},
   "outputs": [
    {
     "name": "stdout",
     "output_type": "stream",
     "text": [
      "i'm not able to solve it\n"
     ]
    }
   ],
   "source": [
    "print(\"i'm not able to solve it\")"
   ]
  },
  {
   "cell_type": "markdown",
   "metadata": {},
   "source": [
    "4.How do you check if a given String contains valid parentheses? Given a string containing just the characters '(', ')', '{', '}', '[' and ']', write a program in python to check if the input string is valid. The brackets must close in the correct order, \"()\" and \"()[]{}\" are all valid but \"(]\" and \"([)]\" are not.\n",
    "\n",
    "Function Name : check_parentheses Input : str Output : True/False\n"
   ]
  },
  {
   "cell_type": "code",
   "execution_count": 17,
   "metadata": {},
   "outputs": [
    {
     "name": "stdout",
     "output_type": "stream",
     "text": [
      "False\n"
     ]
    }
   ],
   "source": [
    "def paren_checker(string):\n",
    "    count = 0\n",
    "    l = []\n",
    "    for c in string:\n",
    "        if c == '(' or c == '[' or c == '{':\n",
    "            l.append(c)\n",
    "            count+=1\n",
    "        elif c == ')' or c == ']' or c == '}':\n",
    "            if c == \")\" and l[-1] == \"(\":\n",
    "                l.pop(-1)\n",
    "                count-=1\n",
    "            elif c == \"}\" and l[-1] == \"{\":\n",
    "                l.pop(-1)\n",
    "                count-=1\n",
    "            elif c == \"]\" and l[-1] == \"[\":\n",
    "                l.pop(-1)\n",
    "                count-=1\n",
    "    if count != 0:\n",
    "        return False\n",
    "            \n",
    "    elif count == 0:\n",
    "        return True\n",
    "    \n",
    "    \n",
    "a = paren_checker(\"(]\")\n",
    "print(a)"
   ]
  },
  {
   "cell_type": "markdown",
   "metadata": {},
   "source": [
    "5.Write a program to convert Integer to Roman String. For example, if a given integer is 5 then your program should print \"V\".\n",
    "\n",
    "Function Name : int_roman Input : int Output : str"
   ]
  },
  {
   "cell_type": "code",
   "execution_count": 28,
   "metadata": {},
   "outputs": [
    {
     "data": {
      "text/plain": [
       "'VI'"
      ]
     },
     "execution_count": 28,
     "metadata": {},
     "output_type": "execute_result"
    }
   ],
   "source": [
    "d = {1000:\"M\" , 900:\"CM\" , 500:\"D\" , 400:\"CD\" , 100:\"C\" , \n",
    "     90:\"XC\" , 50:\"L\" , 40:\"XL\" , 10:\"X\" , 9:\"IX\" , 5:\"V\" , 4:\"IV\" , 1:\"I\"}\n",
    "def int_roman(value):\n",
    "    if value in d:\n",
    "       print(d[value])\n",
    "    else:\n",
    "        s = \"\"\n",
    "        for value1 in d:\n",
    "            for value2 in d:\n",
    "                if value != 0:\n",
    "                    if value2 < value or value2 == value:\n",
    "                        value = value - value2\n",
    "                        s += d[value2]\n",
    "                        break\n",
    "        return s\n",
    "                    \n",
    "            \n",
    "int_roman(6)\n"
   ]
  },
  {
   "cell_type": "code",
   "execution_count": 80,
   "metadata": {},
   "outputs": [
    {
     "name": "stdout",
     "output_type": "stream",
     "text": [
      "10\n"
     ]
    }
   ],
   "source": [
    "# 6.Write a program utility that counts the number of lines of actual python code in a. For the purpose of this exercise, a line is counted if it contains something other than whitespace or text in a comment.\n",
    "\n",
    "# remember that comment start sequences that appear inside python strings should be ignored.\n",
    "\n",
    "# Function Name : count_code_lines Input : str Output : int\n",
    "\n",
    "# In [ ]:\n",
    "input_code = \"\"\"\n",
    "#Linear search implementation\n",
    "#Takes list and a key as input and returns True or False as answer\n",
    "def linear_saerch(l,key):\n",
    "    for value in l:\n",
    "        if key == value:\n",
    "            return True #Return True is key exist\n",
    "    else:\n",
    "        return False #Return False if key does not exist\n",
    "\n",
    "l = [100,200,300,400,500,600]\n",
    "key = 500\n",
    "result = linear_search(l,key)\n",
    "print(result)\n",
    "\"\"\"\n",
    "import re\n",
    "def count_code_lines(line):\n",
    "    s = line.lstrip()\n",
    "    r = re.compile('^\\w+')\n",
    "    m = re.search(r,s)\n",
    "    if m:\n",
    "        return True\n",
    "    else:\n",
    "        return False\n",
    "\n",
    "count = 0\n",
    "l = input_code.split('\\n')\n",
    "for line in l:\n",
    "    count+=count_code_lines(line)\n",
    "print(count)"
   ]
  },
  {
   "cell_type": "markdown",
   "metadata": {},
   "source": [
    "7.Write a program to check the strength of a supplied password\n",
    "\n",
    "The length of the password must be at least 8 characters in length The password must contain at least 1 capital letter The password must contain at least 1 digit The password must contain at least 1 special character and allowed special characters are (!,@,#,$,&)\n",
    "\n",
    "We need to provide feedback to the user about the strength of their password\n",
    "\n",
    "Provide the user with a list of reasons why their password is 'weak'\n",
    "Function Name : check_password_strength Input : str Output : tuple (str,list) eg (\"Weak\",[\"The password must contain at least 1 capital letter\"])\n"
   ]
  },
  {
   "cell_type": "code",
   "execution_count": 2,
   "metadata": {},
   "outputs": [
    {
     "name": "stdout",
     "output_type": "stream",
     "text": [
      "asdasfA1\n",
      "['weak', 'your password is not having special characters']\n"
     ]
    }
   ],
   "source": [
    "import re\n",
    "def check_password_strength(password):\n",
    "    flag = 0\n",
    "    l = [\"weak\"]\n",
    "    while True:\n",
    "        if (len(password)<8): \n",
    "            s = \"your password must contain 8 characters\"\n",
    "            flag = -1\n",
    "            break\n",
    "        elif not re.search(\"[a-z]\", password): \n",
    "            flag = -1\n",
    "            s = \"your password is not having alphabets\"\n",
    "            break\n",
    "        elif not re.search(\"[A-Z]\", password):\n",
    "            flag = -1\n",
    "            s = \"your password is not having Capital Alphabets\"\n",
    "            break\n",
    "        elif not re.search(\"[0-9]\", password):\n",
    "            flag = -1\n",
    "            s =  \"your password is not having Numbers\"\n",
    "            break\n",
    "        elif not re.search(\"[(!)?(@)?(#)?($)?(&)]\", password):\n",
    "            flag = -1\n",
    "            s = \"your password is not having special characters\"\n",
    "            break\n",
    "        else: \n",
    "            flag = 0\n",
    "            print(\"Valid Password\") \n",
    "            break\n",
    "    if flag ==-1:\n",
    "        l.append(s)\n",
    "        print(l)\n",
    "    \n",
    "password = input()\n",
    "\n",
    "check_password_strength(password)\n"
   ]
  },
  {
   "cell_type": "markdown",
   "metadata": {},
   "source": [
    "8.Check if given sentence is syntactically correct or not\n",
    "A simple sentence if syntactically correct if it fulfills given rules. The following are given rules.\n",
    "\n",
    "Sentence must start with a Uppercase character (e.g. Noun/ I/ We/ He etc.)\n",
    "There must be spaces between words.\n",
    "Then the sentence must end with a full stop(.).\n",
    "Two continuous spaces are not allowed.\n",
    "Two continuous uppercase characters are not allowed.\n",
    "However the sentence can end after an uppercase character.\n",
    "Function Name : check_sentence Input : str Output : tuple (True/False,list) eg (False,[\"There must be spaces between words.\"])\n"
   ]
  },
  {
   "cell_type": "code",
   "execution_count": 25,
   "metadata": {},
   "outputs": [
    {
     "data": {
      "text/plain": [
       "('False', ['the sentence you given is having two continous spaces'])"
      ]
     },
     "execution_count": 25,
     "metadata": {},
     "output_type": "execute_result"
    }
   ],
   "source": [
    "import re\n",
    "\n",
    "def check_sentence(sentence):\n",
    "    x = sentence[0]\n",
    "    if sentence[0].isupper():\n",
    "        if sentence[-1] == \".\":\n",
    "            if \"  \" not in sentence:\n",
    "                pattern = re.compile(\"[A-Z]{2}\")\n",
    "                match = re.search(pattern,sentence)\n",
    "                if not match:\n",
    "                    return (\"True\",[\"the sentence you entered syntactically correct\"])\n",
    "                else:\n",
    "                    return (\"False\",[\"the sentence you given is having two continous uppercase characters\"])\n",
    "            else:\n",
    "                return (\"False\",[\"the sentence you given is having two continous spaces\"])\n",
    "        else:\n",
    "            return (\"False\",[\"the sentence you given is not having full stop at the end\"])\n",
    "    else:\n",
    "        return (\"False\",[\"the Sentence you given must start with a Uppercase character\"])\n",
    "\n",
    "check_sentence(\"My name is manishyam.\")"
   ]
  },
  {
   "cell_type": "markdown",
   "metadata": {},
   "source": [
    "9.Given an array arr[] of integers and an integer K, the task is to find the greatest contiguous sub-array of size K.\n",
    "\n",
    "Sub-array X is said to be greater than sub-array Y if the first non-matching element in both the sub-arrays has a greater value in X than in Y.\n",
    "\n",
    "For example : Input: arr[] = {1, 4, 3, 2, 5}, K = 4 Output: 4 3 2 5 Two subarrays are {1, 4, 3, 2} and {4, 3, 2, 5}. First non-matching element from array1 and array 2 : 1 and 4 as 4 is greater Hence, the greater one is {4, 3, 2, 5}\n",
    "\n",
    "Function Name : greatest_sub_array() Input : list Output : list\n"
   ]
  },
  {
   "cell_type": "code",
   "execution_count": 81,
   "metadata": {},
   "outputs": [
    {
     "name": "stdout",
     "output_type": "stream",
     "text": [
      "i'm not able to solve it\n"
     ]
    }
   ],
   "source": [
    "print(\"i'm not able to solve it\")"
   ]
  },
  {
   "cell_type": "markdown",
   "metadata": {},
   "source": [
    "10.Given a list of N integers. The task is to eliminate the minimum number of elements such that in the resulting list the sum of any two adjacent values is even.\n",
    "\n",
    "Numbers = [1, 3, 5, 4, 2] Output = [1, 3, 5] Total elements removed 2 Elements to be removed [4,2]\n",
    "\n",
    "\n",
    "Function Name : adj_sum_even() Input : list Output : tuple(int,list)"
   ]
  },
  {
   "cell_type": "code",
   "execution_count": 37,
   "metadata": {},
   "outputs": [
    {
     "name": "stdout",
     "output_type": "stream",
     "text": [
      "2 [4, 2]\n"
     ]
    }
   ],
   "source": [
    "def adj_sum_even(numbers):\n",
    "    even_list = []\n",
    "    odd_list = []\n",
    "    for number in numbers:\n",
    "        if number % 2 == 0:\n",
    "            even_list.append(number)\n",
    "        else:\n",
    "            odd_list.append(number)\n",
    "    if(len(even_list)) > len(odd_list):\n",
    "        print(len(odd_list),odd_list)\n",
    "    else:\n",
    "        print(len(even_list),even_list)\n",
    "adj_sum_even([1,3,5,4,2])"
   ]
  },
  {
   "cell_type": "code",
   "execution_count": null,
   "metadata": {},
   "outputs": [],
   "source": []
  }
 ],
 "metadata": {
  "kernelspec": {
   "display_name": "Python 3",
   "language": "python",
   "name": "python3"
  },
  "language_info": {
   "codemirror_mode": {
    "name": "ipython",
    "version": 3
   },
   "file_extension": ".py",
   "mimetype": "text/x-python",
   "name": "python",
   "nbconvert_exporter": "python",
   "pygments_lexer": "ipython3",
   "version": "3.7.4"
  }
 },
 "nbformat": 4,
 "nbformat_minor": 2
}

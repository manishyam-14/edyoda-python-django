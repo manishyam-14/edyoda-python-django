{
 "cells": [
  {
   "cell_type": "code",
   "execution_count": 2,
   "metadata": {},
   "outputs": [],
   "source": [
    "import re"
   ]
  },
  {
   "cell_type": "code",
   "execution_count": 4,
   "metadata": {},
   "outputs": [
    {
     "name": "stdout",
     "output_type": "stream",
     "text": [
      "invalid email\n"
     ]
    }
   ],
   "source": [
    "#problem 1\n",
    "s = \"abc._@gmail.co.in\"\n",
    "r =  re.compile(\"^[a-z]+(\\.)?[0-9]+(_)?@[a-z0-9]+(\\.[a-z]{2,3}){0,2}$\")\n",
    "m = re.search(r,s)\n",
    "if m:\n",
    "    print(m.group(0))\n",
    "else:\n",
    "    print(\"invalid email\")"
   ]
  },
  {
   "cell_type": "code",
   "execution_count": 5,
   "metadata": {},
   "outputs": [
    {
     "name": "stdout",
     "output_type": "stream",
     "text": [
      "Date is invalid.\n"
     ]
    }
   ],
   "source": [
    "#problem 2\n",
    "s = \"31-13-2019\"\n",
    "r = re.compile(\"([0-9]{2})-([0-9]{2})-([0-9]{4})\")\n",
    "m = re.search(r,s)\n",
    "day = m.group(1)\n",
    "month = m.group(2)\n",
    "year = m.group(3)\n",
    "max_day_value = 0\n",
    "\n",
    "\n",
    "if month == 1 or month == 3 or month == 5 or month == 7 or month == 8 or month == 10 or month == 12:\n",
    "    max_day_value = 31\n",
    "elif month == 4 or month == 6 or month == 9 or month == 11:\n",
    "    max_day_value = 30\n",
    "elif int(year) % 4 == 0 and int(year) % 100 != 0 or int(year) % 400 == 0:\n",
    "    max_day_value = 29\n",
    "else:\n",
    "    max_day_value = 28\n",
    "if int(month) < 1 or int(month) > 12:\n",
    "    print(\"Date is invalid.\")\n",
    "elif day < 1 or day > max_day_value:\n",
    "    print(\"Date is invalid.\")\n",
    "else:\n",
    "    print(\"Valid Date\")\n",
    "\n"
   ]
  }
 ],
 "metadata": {
  "kernelspec": {
   "display_name": "Python 3",
   "language": "python",
   "name": "python3"
  },
  "language_info": {
   "codemirror_mode": {
    "name": "ipython",
    "version": 3
   },
   "file_extension": ".py",
   "mimetype": "text/x-python",
   "name": "python",
   "nbconvert_exporter": "python",
   "pygments_lexer": "ipython3",
   "version": "3.7.4"
  }
 },
 "nbformat": 4,
 "nbformat_minor": 2
}
